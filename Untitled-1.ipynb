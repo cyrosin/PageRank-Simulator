{
 "cells": [
  {
   "cell_type": "code",
   "execution_count": null,
   "metadata": {},
   "outputs": [],
   "source": [
    "import numpy as np\n",
    "\n",
    "# Function to calculate PageRank\n",
    "def pagerank(M, num_iterations: int = 100, d: float = 0.85):\n",
    "    \"\"\"\n",
    "    Calculates the PageRank given a transition matrix.\n",
    "\n",
    "    Parameters:\n",
    "    M (np.array): The transition matrix.\n",
    "    num_iterations (int): Number of iterations to perform.\n",
    "    d (float): Damping factor.\n",
    "\n",
    "    Returns:\n",
    "    np.array: The PageRank vector after the given number of iterations.\n",
    "    \"\"\"\n",
    "    N = M.shape[1]\n",
    "    v = np.random.rand(N, 1)\n",
    "    v = v / np.linalg.norm(v, 1)\n",
    "    E = np.ones((N, 1)) / N  # Uniform distribution vector E\n",
    "\n",
    "    for i in range(num_iterations):\n",
    "        v = d * np.matmul(M, v) + (1 - d) * E\n",
    "    return v\n",
    "\n",
    "# Transition matrix M from the simplified PageRank example\n",
    "M = np.array([\n",
    "    [0,     0,     1],\n",
    "    [0.5,   0,     0],\n",
    "    [0.5,   1,     0]\n",
    "])\n",
    "\n",
    "# Execute PageRank calculation\n",
    "pagerank_scores = pagerank(M, 100, 0.85)\n",
    "pagerank_scores\n"
   ]
  }
 ],
 "metadata": {
  "language_info": {
   "name": "python"
  }
 },
 "nbformat": 4,
 "nbformat_minor": 2
}
